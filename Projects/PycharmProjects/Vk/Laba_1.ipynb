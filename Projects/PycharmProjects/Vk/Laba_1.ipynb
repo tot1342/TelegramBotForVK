{
 "cells": [
  {
   "cell_type": "markdown",
   "metadata": {},
   "source": [
    "# Базовый синтаксис языка Python 3"
   ]
  },
  {
   "cell_type": "markdown",
   "metadata": {},
   "source": [
    "# 1. Типы данных"
   ]
  },
  {
   "cell_type": "markdown",
   "metadata": {},
   "source": [
    "Функцией type возвращает тип аргумента: \n",
    "\n",
    "целые числа, вещественные числа, строки (символы), логические переменные (True (истина) или False (ложь))"
   ]
  },
  {
   "cell_type": "code",
   "execution_count": 4,
   "metadata": {},
   "outputs": [
    {
     "data": {
      "text/plain": [
       "(int, float, str, bool)"
      ]
     },
     "execution_count": 4,
     "metadata": {},
     "output_type": "execute_result"
    }
   ],
   "source": [
    "type(1), type(1.0), type('1'), type(1<2)"
   ]
  },
  {
   "cell_type": "code",
   "execution_count": 5,
   "metadata": {},
   "outputs": [
    {
     "data": {
      "text/plain": [
       "(1, 1.0, '1', True)"
      ]
     },
     "execution_count": 5,
     "metadata": {},
     "output_type": "execute_result"
    }
   ],
   "source": [
    "1, 1.0, '1', 1<2"
   ]
  },
  {
   "cell_type": "markdown",
   "metadata": {},
   "source": [
    "# 1.2 Операции с числами: $A+B$, $A-B$, $A*B$, $A/B$, $A^B$"
   ]
  },
  {
   "cell_type": "code",
   "execution_count": 6,
   "metadata": {},
   "outputs": [
    {
     "name": "stdout",
     "output_type": "stream",
     "text": [
      " A + B =  3\n",
      " A - B =  -1\n",
      " A * B =  2\n",
      " A / B =  0.5\n",
      " A ^ B =  1\n"
     ]
    }
   ],
   "source": [
    "# коментарий: с целыми числами\n",
    "A=1 \n",
    "B=2\n",
    "print (' A + B = ',A+B) # сумма\n",
    "print (' A - B = ',A-B) # разность;\n",
    "print (' A * B = ',A*B) # произведение;\n",
    "print (' A / B = ',A/B) # частное;\n",
    "print (' A ^ B = ',A**B) # возведение в степень."
   ]
  },
  {
   "cell_type": "code",
   "execution_count": 7,
   "metadata": {},
   "outputs": [
    {
     "name": "stdout",
     "output_type": "stream",
     "text": [
      " A + B  =  3.0\n",
      " A - B  =  -1.0\n",
      " A * B  =  2.0\n",
      " A / B  =  0.5\n",
      " A % B  =  1.0\n",
      " A // B =  0.0\n",
      " A ^ B  =  1.0\n"
     ]
    }
   ],
   "source": [
    "# коментарий: с вещественными числами\n",
    "A=1.0 \n",
    "B=2.0\n",
    "print (' A + B  = ',A+B)  # сумма\n",
    "print (' A - B  = ',A-B)  # разность;\n",
    "print (' A * B  = ',A*B)  # произведение;\n",
    "print (' A / B  = ',A/B)  # частное;\n",
    "print (' A % B  = ',A%B)  #  остаток от деления;\n",
    "print (' A // B = ',A//B) # деление без остатка;\n",
    "print (' A ^ B  = ',A**B) # возведение в степень."
   ]
  },
  {
   "cell_type": "code",
   "execution_count": 8,
   "metadata": {},
   "outputs": [
    {
     "name": "stdout",
     "output_type": "stream",
     "text": [
      " A / B =  0.5 возвращаемый тип -  <class 'float'>\n",
      " A / B =  0 возвращаемый тип -  <class 'int'>\n"
     ]
    }
   ],
   "source": [
    "# коментарий: ещё о целых числах, без автоматического переопределения типа было бы так\n",
    "A=1\n",
    "B=2\n",
    "print (' A / B = ',A/B, 'возвращаемый тип - ', type(A/B)) # автоматическое переопределение;\n",
    "print (' A / B = ',(int)(A/B), 'возвращаемый тип - ', type((int)(A/B))) # без автоматического переопределения;"
   ]
  },
  {
   "cell_type": "markdown",
   "metadata": {},
   "source": [
    "# 1.2 Операции над строками"
   ]
  },
  {
   "cell_type": "code",
   "execution_count": 9,
   "metadata": {},
   "outputs": [
    {
     "name": "stdout",
     "output_type": "stream",
     "text": [
      " Ast + Bst  =   математика и информатика \n",
      " Ast * n    =   математика  математика  математика  математика  математика  математика  математика \n"
     ]
    }
   ],
   "source": [
    "Ast=' математика ' \n",
    "Bst=' информатика '\n",
    "n=7\n",
    "print (' Ast + Bst  = ',Ast+'и'+Bst)  # конкатенация \n",
    "print (' Ast * n    = ',Ast*n)  # повторение n раз"
   ]
  },
  {
   "cell_type": "markdown",
   "metadata": {},
   "source": [
    "# 1.3 Логические операции"
   ]
  },
  {
   "cell_type": "code",
   "execution_count": 10,
   "metadata": {},
   "outputs": [
    {
     "name": "stdout",
     "output_type": "stream",
     "text": [
      " A >  B  ?  False\n",
      " A <  B  ?  True\n",
      " A >= B  ?  False\n",
      " A <= B  ?  True\n",
      " A == B  ?  False\n",
      " A != B ?  True\n",
      " A < B < A+B ?  True\n",
      " A < B и B < A+B  ?  True\n",
      " A < B или A > B  ?  True\n",
      "\n",
      " True False False True\n",
      "\n",
      " True \t False\n"
     ]
    }
   ],
   "source": [
    "A=1.0 \n",
    "B=2.0\n",
    "print (' A >  B  ? ',A>B)  # больше\n",
    "print (' A <  B  ? ',A<B)  # меньша\n",
    "print (' A >= B  ? ',A>=B)  # больше или равно\n",
    "print (' A <= B  ? ',A<=B)  # меньше или равно\n",
    "print (' A == B  ? ',A==B)  # равно\n",
    "print (' A != B ? ',A!=B) # не равно\n",
    "print (' A < B < A+B ? ',A<B<A+B) # из интервала\n",
    "print (' A < B и B < A+B  ? ',A<B and B<A+B) # и (*)\n",
    "print (' A < B или A > B  ? ',A<B or A>B) # или (+)\n",
    "\n",
    "print ('\\n', A<B , A>B, A<B * A>B, A<B + A>B)  # \\n - знак перехода на строку\n",
    "\n",
    "print ('\\n',bool(1), '\\t', bool(0))  # \\t - знак табуляции"
   ]
  },
  {
   "cell_type": "markdown",
   "metadata": {},
   "source": [
    "# 2 Основные инструкции"
   ]
  },
  {
   "cell_type": "markdown",
   "metadata": {},
   "source": [
    "# 2.1 Операции ввода/вывода"
   ]
  },
  {
   "cell_type": "markdown",
   "metadata": {
    "collapsed": true
   },
   "source": [
    "Форматный вывод (это красиво): %ШиринаПоля.ТочностьТип\n",
    "\n",
    "% - указатель на вставку, тип: i - int, f - float, s - str"
   ]
  },
  {
   "cell_type": "code",
   "execution_count": 11,
   "metadata": {},
   "outputs": [
    {
     "name": "stdout",
     "output_type": "stream",
     "text": [
      " A / B = 0.5000, возвращаемый тип - <class 'float'> \n",
      " A / B =      0, возвращаемый тип - <class 'int'> \n"
     ]
    }
   ],
   "source": [
    "A=1 \n",
    "B=2\n",
    "print(\" A / B = %6.4f, возвращаемый тип - %s \" % (A/B, type(A/B)))\n",
    "print(\" A / B = %6i, возвращаемый тип - %s \" % ((int)(A/B), type((int)(A/B))))"
   ]
  },
  {
   "cell_type": "markdown",
   "metadata": {},
   "source": [
    "В интерактивной сессии (или в программе, запущенной с командной строки) можно попросить пользователя что-нибудь ввести. Аргумент функции input - это приглашение для ввода (prompt). Можно использовать просто input(), тогда приглашения не будет. Но это неудобно, т.к. в этом случае трудно заметить, что программа чего-то ждёт."
   ]
  },
  {
   "cell_type": "code",
   "execution_count": 12,
   "metadata": {},
   "outputs": [
    {
     "name": "stdout",
     "output_type": "stream",
     "text": [
      "Введите число 3\n",
      "s =  3 <class 'str'>\n",
      "sf =  3.0 <class 'float'>\n"
     ]
    }
   ],
   "source": [
    "s=input('Введите число ')\n",
    "print('s = ', s, type(s))\n",
    "sf=float(s)\n",
    "print('sf = ', sf, type(sf))"
   ]
  },
  {
   "cell_type": "markdown",
   "metadata": {},
   "source": [
    "Питон - интерпретатор, поэтому он может во время выполнения программы интерпретировать строки как куски исходного текста на языке питон. Так, функция eval интерпретирует строку как выражение и вычисляет его (в текущем контексте - подставляя текущие значения переменных)."
   ]
  },
  {
   "cell_type": "code",
   "execution_count": 13,
   "metadata": {},
   "outputs": [
    {
     "name": "stdout",
     "output_type": "stream",
     "text": [
      "Введите выражение с sfsf+1\n",
      "s =  sf+1 <class 'str'>\n",
      "sf+1 =  4.0\n"
     ]
    }
   ],
   "source": [
    "s=input('Введите выражение с sf')\n",
    "print('s = ', s, type(s))\n",
    "print(s + ' = ', eval(s))"
   ]
  },
  {
   "cell_type": "markdown",
   "metadata": {},
   "source": [
    "А функция exec интерпретирует строку как оператор и выполняет его. Оператор может менять значения переменных в текущем пространстве имён."
   ]
  },
  {
   "cell_type": "code",
   "execution_count": 14,
   "metadata": {},
   "outputs": [
    {
     "name": "stdout",
     "output_type": "stream",
     "text": [
      "Введите оператор x=sf\n"
     ]
    }
   ],
   "source": [
    "s=input('Введите оператор ')"
   ]
  },
  {
   "cell_type": "code",
   "execution_count": 15,
   "metadata": {},
   "outputs": [
    {
     "data": {
      "text/plain": [
       "'x=sf'"
      ]
     },
     "execution_count": 15,
     "metadata": {},
     "output_type": "execute_result"
    }
   ],
   "source": [
    "s"
   ]
  },
  {
   "cell_type": "code",
   "execution_count": 16,
   "metadata": {},
   "outputs": [
    {
     "name": "stdout",
     "output_type": "stream",
     "text": [
      "3.0\n"
     ]
    }
   ],
   "source": [
    "exec(s)\n",
    "print(x)"
   ]
  },
  {
   "cell_type": "markdown",
   "metadata": {},
   "source": [
    "# 2.2 Ветвление (или условная инструкция)"
   ]
  },
  {
   "cell_type": "raw",
   "metadata": {},
   "source": [
    "Синтаксис:\n",
    "\n",
    "if Условие1:\n",
    "    Блок_инструкций_1 (выполняется если условие1 выполнено)\n",
    "elif Условие2:\n",
    "    Блок_инструкций_2 (выполняется если условие2 выполнено)    \n",
    "else:\n",
    "    Блок_инструкций_3 (выполняется если условия не выполнены)\n",
    "   \n",
    "или болеее компатно:   \n",
    "   \n",
    "A = инструкция1(выполняется когда верно условие) if условие else инструкция2"
   ]
  },
  {
   "cell_type": "markdown",
   "metadata": {},
   "source": [
    "# 2.3 Цикл"
   ]
  },
  {
   "cell_type": "raw",
   "metadata": {
    "collapsed": true
   },
   "source": [
    "Цикл while («пока») позволяет выполнить одну и ту же последовательность действий, пока проверяемое условие истинно. Условие записывается до тела цикла и проверяется до выполнения тела цикла. Как правило, цикл while используется, когда невозможно определить точное значение количества проходов исполнения цикла.\n",
    "\n",
    "Синтаксис цикла while:\n",
    "\n",
    "while Условие:\n",
    "    Блок_инструкций"
   ]
  },
  {
   "cell_type": "raw",
   "metadata": {},
   "source": [
    "Цикл for\n",
    "\n",
    "Синтаксис:\n",
    "\n",
    "for i in range(10):      #   for i in range(от, до, шаг):\n",
    "    Блок_инструкций\n",
    "    \n",
    "эквивалентно:\n",
    "\n",
    "i = 0\n",
    "while i < 10:\n",
    "    Блок_инструкций\n",
    "    i += 1"
   ]
  },
  {
   "cell_type": "markdown",
   "metadata": {},
   "source": [
    "# 2.4 Обработка"
   ]
  },
  {
   "cell_type": "raw",
   "metadata": {},
   "source": [
    "try:\n",
    "    Блок_инструкций_1\n",
    "except:\n",
    "    Блок_инструкций_2 (выполняется в случае ошибки в Блок_инструкций_1)"
   ]
  },
  {
   "cell_type": "markdown",
   "metadata": {},
   "source": [
    "# 3 Функции"
   ]
  },
  {
   "cell_type": "markdown",
   "metadata": {
    "collapsed": true
   },
   "source": [
    "Простейшая в мире функция: не имеет параметров, ничего не делает и ничего не возвращает. Оператор pass означает \"ничего не делай\"; он используется там, где синтаксически необходим оператор, а делать ничено не нужно (после if или elif, после def и т.д.)."
   ]
  },
  {
   "cell_type": "code",
   "execution_count": 17,
   "metadata": {
    "collapsed": true
   },
   "outputs": [],
   "source": [
    "def fun0():\n",
    "    pass"
   ]
  },
  {
   "cell_type": "code",
   "execution_count": 19,
   "metadata": {},
   "outputs": [],
   "source": [
    "def Parity ():\n",
    "    \n",
    "    sf=1\n",
    "    while bool(sf):\n",
    "        s=input('Введите число ')\n",
    "        try:\n",
    "            # перхватывает любую ошибку ! и например del sf\n",
    "            sf=int(s)\n",
    "            f=sf%2\n",
    "            if not bool(f):\n",
    "                print('четное')\n",
    "            else:\n",
    "                print('не четное')\n",
    "        except:\n",
    "            print('Йода говорит: только целые числа нужны нам!')\n",
    "        "
   ]
  },
  {
   "cell_type": "code",
   "execution_count": 20,
   "metadata": {
    "collapsed": true
   },
   "outputs": [],
   "source": [
    "def convert_base(num, to_base=10, from_base=10):\n",
    "    \n",
    "    alphabet = \"0123456789ABCDEFGHIJKLMNOPQRSTUVWXYZ\"\n",
    "    \n",
    "    if isinstance(num, str):     # праверка типа\n",
    "        n = int(num, from_base)  # приведение к десятичной форме\n",
    "    else:\n",
    "        n = int(num)\n",
    "    # приведение к новой базе\n",
    "    if n < to_base:\n",
    "        return alphabet[n]\n",
    "    else:\n",
    "        return convert_base(n // to_base, to_base) + alphabet[n % to_base]"
   ]
  },
  {
   "cell_type": "code",
   "execution_count": 21,
   "metadata": {},
   "outputs": [
    {
     "data": {
      "text/plain": [
       "'7'"
      ]
     },
     "execution_count": 21,
     "metadata": {},
     "output_type": "execute_result"
    }
   ],
   "source": [
    "convert_base('111', from_base=2)"
   ]
  },
  {
   "cell_type": "code",
   "execution_count": 22,
   "metadata": {},
   "outputs": [
    {
     "name": "stdout",
     "output_type": "stream",
     "text": [
      "Введите число 1\n",
      "не четное\n",
      "Введите число 8\n",
      "четное\n",
      "Введите число 7.8\n",
      "Йода говорит: только целые числа нужны нам!\n",
      "Введите число 0\n",
      "четное\n"
     ]
    }
   ],
   "source": [
    "Parity ()"
   ]
  },
  {
   "cell_type": "markdown",
   "metadata": {},
   "source": [
    "# Домашнее задание:"
   ]
  },
  {
   "cell_type": "markdown",
   "metadata": {},
   "source": [
    "Написать программу совершающую элементарные алгебраические операции ($A+B$, $A-B$, $A*B$, $A/B$) с числами в произвольной системе исчисления. (Подсказка: обратите внимание на устройство программы convert_base.)"
   ]
  },
  {
   "cell_type": "code",
   "execution_count": null,
   "metadata": {
    "collapsed": true
   },
   "outputs": [],
   "source": []
  }
 ],
 "metadata": {
  "kernelspec": {
   "display_name": "Python 3",
   "language": "python",
   "name": "python3"
  },
  "language_info": {
   "codemirror_mode": {
    "name": "ipython",
    "version": 3
   },
   "file_extension": ".py",
   "mimetype": "text/x-python",
   "name": "python",
   "nbconvert_exporter": "python",
   "pygments_lexer": "ipython3",
   "version": "3.6.1"
  }
 },
 "nbformat": 4,
 "nbformat_minor": 2
}
